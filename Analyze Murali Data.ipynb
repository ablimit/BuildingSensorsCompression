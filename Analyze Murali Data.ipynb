{
 "metadata": {
  "name": "",
  "signature": "sha256:e3fd1176f276cd76f85afda16242867aa60cbef43338e0a6c6985526a16ef108"
 },
 "nbformat": 3,
 "nbformat_minor": 0,
 "worksheets": [
  {
   "cells": [
    {
     "cell_type": "code",
     "collapsed": false,
     "input": [
      "!ls -l"
     ],
     "language": "python",
     "metadata": {},
     "outputs": [
      {
       "output_type": "stream",
       "stream": "stdout",
       "text": [
        "total 793536\r\n",
        "-rw-r--r--  1 yoavfreund  staff      48019 Jul 11 11:16 Analyze Murali Data.ipynb\r\n",
        "-rw-r--r--@ 1 yoavfreund  staff     140123 Jul  3 21:26 nonMultiIndex.ipynb\r\n",
        "-rw-r--r--@ 1 yoavfreund  503    406097679 Jul  2 10:21 vav_May3_150days.pkl\r\n"
       ]
      }
     ],
     "prompt_number": 1
    },
    {
     "cell_type": "code",
     "collapsed": false,
     "input": [
      "import pickle\n",
      "A=pickle.load(open('vav_May3_150days.pkl','r'))"
     ],
     "language": "python",
     "metadata": {},
     "outputs": [],
     "prompt_number": 2
    },
    {
     "cell_type": "code",
     "collapsed": false,
     "input": [
      "print type(A)\n",
      "print len(A.keys())\n",
      "print A.keys()[:5]"
     ],
     "language": "python",
     "metadata": {},
     "outputs": [
      {
       "output_type": "stream",
       "stream": "stdout",
       "text": [
        "<type 'dict'>\n",
        "235\n",
        "['1144', '1145', '3200A', '1224', '2138']\n"
       ]
      }
     ],
     "prompt_number": 3
    },
    {
     "cell_type": "markdown",
     "metadata": {},
     "source": [
      "A is a dictionary. The keys are room numbers. The values are dataframe containing all of the measurements for that room. "
     ]
    },
    {
     "cell_type": "code",
     "collapsed": false,
     "input": [
      "DF=A['1144']"
     ],
     "language": "python",
     "metadata": {},
     "outputs": [],
     "prompt_number": 4
    },
    {
     "cell_type": "code",
     "collapsed": false,
     "input": [
      "print DF.columns"
     ],
     "language": "python",
     "metadata": {},
     "outputs": [
      {
       "output_type": "stream",
       "stream": "stdout",
       "text": [
        "Index([u'Temperature', u'Zone_Temperature', u'WarmCool_Adjust', u'Actual_Cooling_Setpoint', u'Actual_Supply_Flow', u'Actual_Sup_Flow_SP', u'Actual_Heating_Setpoint', u'Reheat_Valve_Command', u'Common_Setpoint', u'Cooling_Max_Flow', u'Occupied_Clg_Min', u'Occupied_Htg_Flow', u'Cooling_Command', u'Heating_Command', u'Occupied_Command'], dtype='object')\n"
       ]
      }
     ],
     "prompt_number": 5
    },
    {
     "cell_type": "code",
     "collapsed": false,
     "input": [
      "DF.hist(figsize=(12,12));"
     ],
     "language": "python",
     "metadata": {},
     "outputs": [],
     "prompt_number": 6
    },
    {
     "cell_type": "code",
     "collapsed": false,
     "input": [
      "import pandas as pd\n",
      "DF['date']=DF.index.map(pd.tslib.Timestamp.date)\n",
      "group_by_date=DF.groupby(DF['date'])"
     ],
     "language": "python",
     "metadata": {},
     "outputs": [],
     "prompt_number": 7
    },
    {
     "cell_type": "code",
     "collapsed": false,
     "input": [
      "\n",
      "DF.head()"
     ],
     "language": "python",
     "metadata": {},
     "outputs": [
      {
       "html": [
        "<div style=\"max-height:1000px;max-width:1500px;overflow:auto;\">\n",
        "<table border=\"1\" class=\"dataframe\">\n",
        "  <thead>\n",
        "    <tr style=\"text-align: right;\">\n",
        "      <th></th>\n",
        "      <th>Temperature</th>\n",
        "      <th>Zone_Temperature</th>\n",
        "      <th>WarmCool_Adjust</th>\n",
        "      <th>Actual_Cooling_Setpoint</th>\n",
        "      <th>Actual_Supply_Flow</th>\n",
        "      <th>Actual_Sup_Flow_SP</th>\n",
        "      <th>Actual_Heating_Setpoint</th>\n",
        "      <th>Reheat_Valve_Command</th>\n",
        "      <th>Common_Setpoint</th>\n",
        "      <th>Cooling_Max_Flow</th>\n",
        "      <th>Occupied_Clg_Min</th>\n",
        "      <th>Occupied_Htg_Flow</th>\n",
        "      <th>Cooling_Command</th>\n",
        "      <th>Heating_Command</th>\n",
        "      <th>Occupied_Command</th>\n",
        "      <th>date</th>\n",
        "    </tr>\n",
        "    <tr>\n",
        "      <th>TimeStamp</th>\n",
        "      <th></th>\n",
        "      <th></th>\n",
        "      <th></th>\n",
        "      <th></th>\n",
        "      <th></th>\n",
        "      <th></th>\n",
        "      <th></th>\n",
        "      <th></th>\n",
        "      <th></th>\n",
        "      <th></th>\n",
        "      <th></th>\n",
        "      <th></th>\n",
        "      <th></th>\n",
        "      <th></th>\n",
        "      <th></th>\n",
        "      <th></th>\n",
        "    </tr>\n",
        "  </thead>\n",
        "  <tbody>\n",
        "    <tr>\n",
        "      <th>2013-12-03 23:00:00</th>\n",
        "      <td> 59.37500</td>\n",
        "      <td>NaN</td>\n",
        "      <td>NaN</td>\n",
        "      <td>NaN</td>\n",
        "      <td>NaN</td>\n",
        "      <td>NaN</td>\n",
        "      <td>NaN</td>\n",
        "      <td>NaN</td>\n",
        "      <td>NaN</td>\n",
        "      <td>NaN</td>\n",
        "      <td>NaN</td>\n",
        "      <td>NaN</td>\n",
        "      <td>NaN</td>\n",
        "      <td>NaN</td>\n",
        "      <td>NaN</td>\n",
        "      <td> 2013-12-03</td>\n",
        "    </tr>\n",
        "    <tr>\n",
        "      <th>2013-12-03 23:15:00</th>\n",
        "      <td> 59.40625</td>\n",
        "      <td>NaN</td>\n",
        "      <td>NaN</td>\n",
        "      <td>NaN</td>\n",
        "      <td>NaN</td>\n",
        "      <td>NaN</td>\n",
        "      <td>NaN</td>\n",
        "      <td>NaN</td>\n",
        "      <td>NaN</td>\n",
        "      <td>NaN</td>\n",
        "      <td>NaN</td>\n",
        "      <td>NaN</td>\n",
        "      <td>NaN</td>\n",
        "      <td>NaN</td>\n",
        "      <td>NaN</td>\n",
        "      <td> 2013-12-03</td>\n",
        "    </tr>\n",
        "    <tr>\n",
        "      <th>2013-12-03 23:30:00</th>\n",
        "      <td> 59.37500</td>\n",
        "      <td>NaN</td>\n",
        "      <td>NaN</td>\n",
        "      <td>NaN</td>\n",
        "      <td>NaN</td>\n",
        "      <td>NaN</td>\n",
        "      <td>NaN</td>\n",
        "      <td>NaN</td>\n",
        "      <td>NaN</td>\n",
        "      <td>NaN</td>\n",
        "      <td>NaN</td>\n",
        "      <td>NaN</td>\n",
        "      <td>NaN</td>\n",
        "      <td>NaN</td>\n",
        "      <td>NaN</td>\n",
        "      <td> 2013-12-03</td>\n",
        "    </tr>\n",
        "    <tr>\n",
        "      <th>2013-12-03 23:45:00</th>\n",
        "      <td> 59.53125</td>\n",
        "      <td>NaN</td>\n",
        "      <td>NaN</td>\n",
        "      <td>NaN</td>\n",
        "      <td>NaN</td>\n",
        "      <td>NaN</td>\n",
        "      <td>NaN</td>\n",
        "      <td>NaN</td>\n",
        "      <td>NaN</td>\n",
        "      <td>NaN</td>\n",
        "      <td>NaN</td>\n",
        "      <td>NaN</td>\n",
        "      <td>NaN</td>\n",
        "      <td>NaN</td>\n",
        "      <td>NaN</td>\n",
        "      <td> 2013-12-03</td>\n",
        "    </tr>\n",
        "    <tr>\n",
        "      <th>2013-12-04 00:00:00</th>\n",
        "      <td> 59.50000</td>\n",
        "      <td>NaN</td>\n",
        "      <td>NaN</td>\n",
        "      <td>NaN</td>\n",
        "      <td>NaN</td>\n",
        "      <td>NaN</td>\n",
        "      <td>NaN</td>\n",
        "      <td>NaN</td>\n",
        "      <td>NaN</td>\n",
        "      <td>NaN</td>\n",
        "      <td>NaN</td>\n",
        "      <td>NaN</td>\n",
        "      <td>NaN</td>\n",
        "      <td>NaN</td>\n",
        "      <td>NaN</td>\n",
        "      <td> 2013-12-04</td>\n",
        "    </tr>\n",
        "  </tbody>\n",
        "</table>\n",
        "</div>"
       ],
       "metadata": {},
       "output_type": "pyout",
       "prompt_number": 8,
       "text": [
        "                     Temperature  Zone_Temperature  WarmCool_Adjust  \\\n",
        "TimeStamp                                                             \n",
        "2013-12-03 23:00:00     59.37500               NaN              NaN   \n",
        "2013-12-03 23:15:00     59.40625               NaN              NaN   \n",
        "2013-12-03 23:30:00     59.37500               NaN              NaN   \n",
        "2013-12-03 23:45:00     59.53125               NaN              NaN   \n",
        "2013-12-04 00:00:00     59.50000               NaN              NaN   \n",
        "\n",
        "                     Actual_Cooling_Setpoint  Actual_Supply_Flow  \\\n",
        "TimeStamp                                                          \n",
        "2013-12-03 23:00:00                      NaN                 NaN   \n",
        "2013-12-03 23:15:00                      NaN                 NaN   \n",
        "2013-12-03 23:30:00                      NaN                 NaN   \n",
        "2013-12-03 23:45:00                      NaN                 NaN   \n",
        "2013-12-04 00:00:00                      NaN                 NaN   \n",
        "\n",
        "                     Actual_Sup_Flow_SP  Actual_Heating_Setpoint  \\\n",
        "TimeStamp                                                          \n",
        "2013-12-03 23:00:00                 NaN                      NaN   \n",
        "2013-12-03 23:15:00                 NaN                      NaN   \n",
        "2013-12-03 23:30:00                 NaN                      NaN   \n",
        "2013-12-03 23:45:00                 NaN                      NaN   \n",
        "2013-12-04 00:00:00                 NaN                      NaN   \n",
        "\n",
        "                     Reheat_Valve_Command  Common_Setpoint  Cooling_Max_Flow  \\\n",
        "TimeStamp                                                                      \n",
        "2013-12-03 23:00:00                   NaN              NaN               NaN   \n",
        "2013-12-03 23:15:00                   NaN              NaN               NaN   \n",
        "2013-12-03 23:30:00                   NaN              NaN               NaN   \n",
        "2013-12-03 23:45:00                   NaN              NaN               NaN   \n",
        "2013-12-04 00:00:00                   NaN              NaN               NaN   \n",
        "\n",
        "                     Occupied_Clg_Min  Occupied_Htg_Flow  Cooling_Command  \\\n",
        "TimeStamp                                                                   \n",
        "2013-12-03 23:00:00               NaN                NaN              NaN   \n",
        "2013-12-03 23:15:00               NaN                NaN              NaN   \n",
        "2013-12-03 23:30:00               NaN                NaN              NaN   \n",
        "2013-12-03 23:45:00               NaN                NaN              NaN   \n",
        "2013-12-04 00:00:00               NaN                NaN              NaN   \n",
        "\n",
        "                     Heating_Command  Occupied_Command        date  \n",
        "TimeStamp                                                           \n",
        "2013-12-03 23:00:00              NaN               NaN  2013-12-03  \n",
        "2013-12-03 23:15:00              NaN               NaN  2013-12-03  \n",
        "2013-12-03 23:30:00              NaN               NaN  2013-12-03  \n",
        "2013-12-03 23:45:00              NaN               NaN  2013-12-03  \n",
        "2013-12-04 00:00:00              NaN               NaN  2013-12-04  "
       ]
      }
     ],
     "prompt_number": 8
    },
    {
     "cell_type": "code",
     "collapsed": false,
     "input": [
      "plot(DF['Temperature'])"
     ],
     "language": "python",
     "metadata": {},
     "outputs": [
      {
       "metadata": {},
       "output_type": "pyout",
       "prompt_number": 9,
       "text": [
        "[<matplotlib.lines.Line2D at 0x1295312d0>]"
       ]
      }
     ],
     "prompt_number": 9
    },
    {
     "cell_type": "code",
     "collapsed": false,
     "input": [
      "plot(DF['Temperature'][300:700])"
     ],
     "language": "python",
     "metadata": {},
     "outputs": [
      {
       "metadata": {},
       "output_type": "pyout",
       "prompt_number": 10,
       "text": [
        "[<matplotlib.lines.Line2D at 0x128f3dc10>]"
       ]
      }
     ],
     "prompt_number": 10
    },
    {
     "cell_type": "code",
     "collapsed": false,
     "input": [
      "plot(DF['Zone_Temperature'])"
     ],
     "language": "python",
     "metadata": {},
     "outputs": [
      {
       "metadata": {},
       "output_type": "pyout",
       "prompt_number": 11,
       "text": [
        "[<matplotlib.lines.Line2D at 0x1291c1d50>]"
       ]
      }
     ],
     "prompt_number": 11
    },
    {
     "cell_type": "code",
     "collapsed": false,
     "input": [
      "## Collecting all zone temperature into a single dataFrame\n",
      "Zone_Temp={}\n",
      "Supply_Flow={}\n",
      "for room in A.keys():\n",
      "    print room,\n",
      "    DF=A[room]\n",
      "    Zone_Temp[room]=DF['Zone_Temperature']\n",
      "    Zone_Temp['outside Temp']=DF['Temperature']\n",
      "    Supply_Flow[room] = DF['Actual_Supply_Flow']\n",
      "Temp=pd.DataFrame(data=Zone_Temp)\n",
      "Temp=Temp.iloc[32:,:] # removing the first 32 time-steps gets rid of all of the nans"
     ],
     "language": "python",
     "metadata": {},
     "outputs": [
      {
       "output_type": "stream",
       "stream": "stdout",
       "text": [
        "1144 1145 3200A 1224 2138 4226 B200B 4220 4223 3258 3128 4148 3122 4144 3252 3121 3126 3127 3256 4142 2154 B210 2150 B270 2244 2240 B109 1155 1154 1156 1151 1150 3134 3136 3130 3132 4236 3138 4231 4230 4138 B102C 4130 3242 4132 3240 4134 3246 B260A 2146 2144 2142 2140 2256 2148 2136 1208B 1122 1123 1124 1125 1126 3140 1100A 3144 4136 3146 1100D 3148 4203 1200B 1200C 4205 4128 4122 4121 4127 4126 3200B B230A B215 2262 2266 4215 4214 1236 1230 1231 4213 1133 1132 1130 4219 1134 3230 3152 4114 3150 4110 3154 4118 4119 2270 2272 2207 2232 2200A 3262 2105 2217 B224 2250 B222 B220 4146 1223 1221 3232 3254 4111 B240 2109 1229 4140 4102 4105 4107 4106 4109 4200A 3214 3215 3217 3213 2208 2209 2234 2127 2118 2119 2121 B275 2111 2112 1139 1207 2116 1212 1213 1217 2203 1218 1213A B250 3105 2122 1203 B230 B240A B250A 3207 3205 3203 3202 2215 2214 2219 2218 3142 3208 1106 1107 1104 2108 1102 2230 2102 2107 1108 1109 3114 1208 4246 B260 4242 4240 3220 4202 B200C 2236 B103A 2134 2132 3109 2130 4217 2226 2227 3106 3107 3102 4207 4154 1110 1113 1115 1117 1116 1200A 4258 2126 4250 4252 4254 4256 2221 4208 3236 4232 B103 4152 2238 4150 B225 3119 3118 2231 2128 3226 3221 2229A 3111 3110 3250 3260\n"
       ]
      }
     ],
     "prompt_number": 12
    },
    {
     "cell_type": "code",
     "collapsed": false,
     "input": [
      "print shape(Temp)\n",
      "print sum(sum(isnan(Temp)))"
     ],
     "language": "python",
     "metadata": {},
     "outputs": [
      {
       "output_type": "stream",
       "stream": "stdout",
       "text": [
        "(14372, 236)\n",
        "0\n"
       ]
      }
     ],
     "prompt_number": 13
    },
    {
     "cell_type": "code",
     "collapsed": true,
     "input": [
      "time=Temp.index[:100]"
     ],
     "language": "python",
     "metadata": {},
     "outputs": [],
     "prompt_number": 14
    },
    {
     "cell_type": "code",
     "collapsed": false,
     "input": [
      "from pandas.tslib import Timestamp"
     ],
     "language": "python",
     "metadata": {},
     "outputs": [],
     "prompt_number": 15
    },
    {
     "cell_type": "code",
     "collapsed": false,
     "input": [
      "time.date()"
     ],
     "language": "python",
     "metadata": {},
     "outputs": [
      {
       "ename": "TypeError",
       "evalue": "'numpy.ndarray' object is not callable",
       "output_type": "pyerr",
       "traceback": [
        "\u001b[0;31m---------------------------------------------------------------------------\u001b[0m\n\u001b[0;31mTypeError\u001b[0m                                 Traceback (most recent call last)",
        "\u001b[0;32m<ipython-input-16-057c32a0c6e5>\u001b[0m in \u001b[0;36m<module>\u001b[0;34m()\u001b[0m\n\u001b[0;32m----> 1\u001b[0;31m \u001b[0mtime\u001b[0m\u001b[0;34m.\u001b[0m\u001b[0mdate\u001b[0m\u001b[0;34m(\u001b[0m\u001b[0;34m)\u001b[0m\u001b[0;34m\u001b[0m\u001b[0m\n\u001b[0m",
        "\u001b[0;31mTypeError\u001b[0m: 'numpy.ndarray' object is not callable"
       ]
      }
     ],
     "prompt_number": 16
    },
    {
     "cell_type": "code",
     "collapsed": false,
     "input": [
      "time=Temp.index[:100]\n",
      "t=time[10]"
     ],
     "language": "python",
     "metadata": {},
     "outputs": [],
     "prompt_number": 17
    },
    {
     "cell_type": "code",
     "collapsed": false,
     "input": [
      "t.hour"
     ],
     "language": "python",
     "metadata": {},
     "outputs": [
      {
       "metadata": {},
       "output_type": "pyout",
       "prompt_number": 18,
       "text": [
        "9"
       ]
      }
     ],
     "prompt_number": 18
    },
    {
     "cell_type": "code",
     "collapsed": false,
     "input": [
      "t.minute"
     ],
     "language": "python",
     "metadata": {},
     "outputs": [
      {
       "metadata": {},
       "output_type": "pyout",
       "prompt_number": 19,
       "text": [
        "30"
       ]
      }
     ],
     "prompt_number": 19
    },
    {
     "cell_type": "code",
     "collapsed": false,
     "input": [
      "def tod(t):\n",
      "    if type(t)==pd.tslib.Timestamp:\n",
      "        return t.hour+(1.0/60.0)*t.minute\n"
     ],
     "language": "python",
     "metadata": {},
     "outputs": [],
     "prompt_number": 20
    },
    {
     "cell_type": "code",
     "collapsed": false,
     "input": [
      "Temp['tod']=[tod(t) for t in Temp.index]\n",
      "Temp['date']=[t.date() for t in Temp.index]"
     ],
     "language": "python",
     "metadata": {},
     "outputs": [],
     "prompt_number": 21
    },
    {
     "cell_type": "code",
     "collapsed": false,
     "input": [
      "Temp.head()"
     ],
     "language": "python",
     "metadata": {},
     "outputs": [
      {
       "html": [
        "<div style=\"max-height:1000px;max-width:1500px;overflow:auto;\">\n",
        "<table border=\"1\" class=\"dataframe\">\n",
        "  <thead>\n",
        "    <tr style=\"text-align: right;\">\n",
        "      <th></th>\n",
        "      <th>1100A</th>\n",
        "      <th>1100D</th>\n",
        "      <th>1102</th>\n",
        "      <th>1104</th>\n",
        "      <th>1106</th>\n",
        "      <th>1107</th>\n",
        "      <th>1108</th>\n",
        "      <th>1109</th>\n",
        "      <th>1110</th>\n",
        "      <th>1113</th>\n",
        "      <th>...</th>\n",
        "      <th>B240A</th>\n",
        "      <th>B250</th>\n",
        "      <th>B250A</th>\n",
        "      <th>B260</th>\n",
        "      <th>B260A</th>\n",
        "      <th>B270</th>\n",
        "      <th>B275</th>\n",
        "      <th>outside Temp</th>\n",
        "      <th>tod</th>\n",
        "      <th>date</th>\n",
        "    </tr>\n",
        "    <tr>\n",
        "      <th>TimeStamp</th>\n",
        "      <th></th>\n",
        "      <th></th>\n",
        "      <th></th>\n",
        "      <th></th>\n",
        "      <th></th>\n",
        "      <th></th>\n",
        "      <th></th>\n",
        "      <th></th>\n",
        "      <th></th>\n",
        "      <th></th>\n",
        "      <th></th>\n",
        "      <th></th>\n",
        "      <th></th>\n",
        "      <th></th>\n",
        "      <th></th>\n",
        "      <th></th>\n",
        "      <th></th>\n",
        "      <th></th>\n",
        "      <th></th>\n",
        "      <th></th>\n",
        "      <th></th>\n",
        "    </tr>\n",
        "  </thead>\n",
        "  <tbody>\n",
        "    <tr>\n",
        "      <th>2013-12-04 07:00:00</th>\n",
        "      <td> 72.144875</td>\n",
        "      <td> 72.095779</td>\n",
        "      <td> 69.695908</td>\n",
        "      <td> 66.910645</td>\n",
        "      <td> 65.513885</td>\n",
        "      <td> 73.380989</td>\n",
        "      <td> 70.49733</td>\n",
        "      <td> 73.251488</td>\n",
        "      <td> 70.38887</td>\n",
        "      <td> 72.972298</td>\n",
        "      <td>...</td>\n",
        "      <td> 74.180298</td>\n",
        "      <td> 72.932022</td>\n",
        "      <td> 73.545654</td>\n",
        "      <td> 72.541794</td>\n",
        "      <td> 72.292328</td>\n",
        "      <td> 73.050873</td>\n",
        "      <td> 82.264137</td>\n",
        "      <td> 56.054688</td>\n",
        "      <td> 7.00</td>\n",
        "      <td> 2013-12-04</td>\n",
        "    </tr>\n",
        "    <tr>\n",
        "      <th>2013-12-04 07:15:00</th>\n",
        "      <td> 72.144875</td>\n",
        "      <td> 72.095779</td>\n",
        "      <td> 69.695908</td>\n",
        "      <td> 66.910645</td>\n",
        "      <td> 65.513885</td>\n",
        "      <td> 73.380989</td>\n",
        "      <td> 70.49733</td>\n",
        "      <td> 73.251488</td>\n",
        "      <td> 70.38887</td>\n",
        "      <td> 72.972298</td>\n",
        "      <td>...</td>\n",
        "      <td> 73.928333</td>\n",
        "      <td> 72.932022</td>\n",
        "      <td> 73.545654</td>\n",
        "      <td> 72.541794</td>\n",
        "      <td> 72.292328</td>\n",
        "      <td> 73.050873</td>\n",
        "      <td> 82.264137</td>\n",
        "      <td> 56.052083</td>\n",
        "      <td> 7.25</td>\n",
        "      <td> 2013-12-04</td>\n",
        "    </tr>\n",
        "    <tr>\n",
        "      <th>2013-12-04 07:30:00</th>\n",
        "      <td> 72.144875</td>\n",
        "      <td> 72.095779</td>\n",
        "      <td> 69.695908</td>\n",
        "      <td> 66.910645</td>\n",
        "      <td> 65.513885</td>\n",
        "      <td> 73.380989</td>\n",
        "      <td> 70.49733</td>\n",
        "      <td> 73.251488</td>\n",
        "      <td> 70.38887</td>\n",
        "      <td> 72.972298</td>\n",
        "      <td>...</td>\n",
        "      <td> 73.676369</td>\n",
        "      <td> 72.932022</td>\n",
        "      <td> 73.545654</td>\n",
        "      <td> 72.541794</td>\n",
        "      <td> 72.292328</td>\n",
        "      <td> 73.050873</td>\n",
        "      <td> 82.264137</td>\n",
        "      <td> 56.197917</td>\n",
        "      <td> 7.50</td>\n",
        "      <td> 2013-12-04</td>\n",
        "    </tr>\n",
        "    <tr>\n",
        "      <th>2013-12-04 07:45:00</th>\n",
        "      <td> 71.810738</td>\n",
        "      <td> 72.095779</td>\n",
        "      <td> 69.695908</td>\n",
        "      <td> 66.910645</td>\n",
        "      <td> 65.006699</td>\n",
        "      <td> 73.380989</td>\n",
        "      <td> 70.49733</td>\n",
        "      <td> 73.251488</td>\n",
        "      <td> 70.38887</td>\n",
        "      <td> 72.972298</td>\n",
        "      <td>...</td>\n",
        "      <td> 73.676369</td>\n",
        "      <td> 72.932022</td>\n",
        "      <td> 73.545654</td>\n",
        "      <td> 72.541794</td>\n",
        "      <td> 72.292328</td>\n",
        "      <td> 73.050873</td>\n",
        "      <td> 82.264137</td>\n",
        "      <td> 56.312500</td>\n",
        "      <td> 7.75</td>\n",
        "      <td> 2013-12-04</td>\n",
        "    </tr>\n",
        "    <tr>\n",
        "      <th>2013-12-04 08:00:00</th>\n",
        "      <td> 71.643669</td>\n",
        "      <td> 72.095779</td>\n",
        "      <td> 69.695908</td>\n",
        "      <td> 66.910645</td>\n",
        "      <td> 65.006699</td>\n",
        "      <td> 73.380989</td>\n",
        "      <td> 70.49733</td>\n",
        "      <td> 73.251488</td>\n",
        "      <td> 70.38887</td>\n",
        "      <td> 72.972298</td>\n",
        "      <td>...</td>\n",
        "      <td> 73.676369</td>\n",
        "      <td> 72.932022</td>\n",
        "      <td> 73.545654</td>\n",
        "      <td> 72.541794</td>\n",
        "      <td> 72.292328</td>\n",
        "      <td> 72.669985</td>\n",
        "      <td> 82.264137</td>\n",
        "      <td> 56.156250</td>\n",
        "      <td> 8.00</td>\n",
        "      <td> 2013-12-04</td>\n",
        "    </tr>\n",
        "  </tbody>\n",
        "</table>\n",
        "<p>5 rows \u00d7 238 columns</p>\n",
        "</div>"
       ],
       "metadata": {},
       "output_type": "pyout",
       "prompt_number": 22,
       "text": [
        "                         1100A      1100D       1102       1104       1106  \\\n",
        "TimeStamp                                                                    \n",
        "2013-12-04 07:00:00  72.144875  72.095779  69.695908  66.910645  65.513885   \n",
        "2013-12-04 07:15:00  72.144875  72.095779  69.695908  66.910645  65.513885   \n",
        "2013-12-04 07:30:00  72.144875  72.095779  69.695908  66.910645  65.513885   \n",
        "2013-12-04 07:45:00  71.810738  72.095779  69.695908  66.910645  65.006699   \n",
        "2013-12-04 08:00:00  71.643669  72.095779  69.695908  66.910645  65.006699   \n",
        "\n",
        "                          1107      1108       1109      1110       1113  \\\n",
        "TimeStamp                                                                  \n",
        "2013-12-04 07:00:00  73.380989  70.49733  73.251488  70.38887  72.972298   \n",
        "2013-12-04 07:15:00  73.380989  70.49733  73.251488  70.38887  72.972298   \n",
        "2013-12-04 07:30:00  73.380989  70.49733  73.251488  70.38887  72.972298   \n",
        "2013-12-04 07:45:00  73.380989  70.49733  73.251488  70.38887  72.972298   \n",
        "2013-12-04 08:00:00  73.380989  70.49733  73.251488  70.38887  72.972298   \n",
        "\n",
        "                       ...          B240A       B250      B250A       B260  \\\n",
        "TimeStamp              ...                                                   \n",
        "2013-12-04 07:00:00    ...      74.180298  72.932022  73.545654  72.541794   \n",
        "2013-12-04 07:15:00    ...      73.928333  72.932022  73.545654  72.541794   \n",
        "2013-12-04 07:30:00    ...      73.676369  72.932022  73.545654  72.541794   \n",
        "2013-12-04 07:45:00    ...      73.676369  72.932022  73.545654  72.541794   \n",
        "2013-12-04 08:00:00    ...      73.676369  72.932022  73.545654  72.541794   \n",
        "\n",
        "                         B260A       B270       B275  outside Temp   tod  \\\n",
        "TimeStamp                                                                  \n",
        "2013-12-04 07:00:00  72.292328  73.050873  82.264137     56.054688  7.00   \n",
        "2013-12-04 07:15:00  72.292328  73.050873  82.264137     56.052083  7.25   \n",
        "2013-12-04 07:30:00  72.292328  73.050873  82.264137     56.197917  7.50   \n",
        "2013-12-04 07:45:00  72.292328  73.050873  82.264137     56.312500  7.75   \n",
        "2013-12-04 08:00:00  72.292328  72.669985  82.264137     56.156250  8.00   \n",
        "\n",
        "                           date  \n",
        "TimeStamp                        \n",
        "2013-12-04 07:00:00  2013-12-04  \n",
        "2013-12-04 07:15:00  2013-12-04  \n",
        "2013-12-04 07:30:00  2013-12-04  \n",
        "2013-12-04 07:45:00  2013-12-04  \n",
        "2013-12-04 08:00:00  2013-12-04  \n",
        "\n",
        "[5 rows x 238 columns]"
       ]
      }
     ],
     "prompt_number": 22
    },
    {
     "cell_type": "code",
     "collapsed": false,
     "input": [
      "Temp.index"
     ],
     "language": "python",
     "metadata": {},
     "outputs": [
      {
       "metadata": {},
       "output_type": "pyout",
       "prompt_number": 23,
       "text": [
        "<class 'pandas.tseries.index.DatetimeIndex'>\n",
        "[2013-12-04 07:00:00, ..., 2014-05-02 23:45:00]\n",
        "Length: 14372, Freq: 15T, Timezone: None"
       ]
      }
     ],
     "prompt_number": 23
    },
    {
     "cell_type": "code",
     "collapsed": false,
     "input": [
      "Temp['date'].iloc[0]"
     ],
     "language": "python",
     "metadata": {},
     "outputs": [
      {
       "metadata": {},
       "output_type": "pyout",
       "prompt_number": 24,
       "text": [
        "datetime.date(2013, 12, 4)"
       ]
      }
     ],
     "prompt_number": 24
    },
    {
     "cell_type": "code",
     "collapsed": false,
     "input": [
      "datetime.date(2013,12,10)>Temp['date'][0]"
     ],
     "language": "python",
     "metadata": {},
     "outputs": [
      {
       "metadata": {},
       "output_type": "pyout",
       "prompt_number": 25,
       "text": [
        "True"
       ]
      }
     ],
     "prompt_number": 25
    },
    {
     "cell_type": "code",
     "collapsed": false,
     "input": [
      "Few_Days=Temp #[(Temp['date']>datetime.date(2014,2,25)) & \\\n",
      "            # (Temp['date']<datetime.date(2014,5,10))]\n",
      "\n",
      "shape(Few_Days)\n",
      "Few_Days.columns[-10:]"
     ],
     "language": "python",
     "metadata": {},
     "outputs": [
      {
       "metadata": {},
       "output_type": "pyout",
       "prompt_number": 42,
       "text": [
        "Index([u'B240A', u'B250', u'B250A', u'B260', u'B260A', u'B270', u'B275', u'outside Temp', u'tod', u'date'], dtype='object')"
       ]
      }
     ],
     "prompt_number": 42
    },
    {
     "cell_type": "code",
     "collapsed": false,
     "input": [
      "pylab.rcParams['figure.figsize'] = (14.0, 8.0)"
     ],
     "language": "python",
     "metadata": {},
     "outputs": [],
     "prompt_number": 43
    },
    {
     "cell_type": "code",
     "collapsed": false,
     "input": [
      "plot(Few_Days.index,mean(Few_Days,axis=1),label='mean')\n",
      "plot(Few_Days.index,Few_Days['outside Temp'],label='outside')\n",
      "for i in range(182,183):\n",
      "    plot(Few_Days.index,Few_Days.iloc[:,i],label=Few_Days.columns[i])\n",
      "legend()\n",
      "#xticks(arange(0,shape(Few_Days)[0]+5,96))\n",
      "grid()"
     ],
     "language": "python",
     "metadata": {},
     "outputs": [],
     "prompt_number": 47
    },
    {
     "cell_type": "code",
     "collapsed": false,
     "input": [
      "DF=A['2148']\n",
      "DF=DF.iloc[32:,:]\n",
      "DF.head()"
     ],
     "language": "python",
     "metadata": {},
     "outputs": [
      {
       "html": [
        "<div style=\"max-height:1000px;max-width:1500px;overflow:auto;\">\n",
        "<table border=\"1\" class=\"dataframe\">\n",
        "  <thead>\n",
        "    <tr style=\"text-align: right;\">\n",
        "      <th></th>\n",
        "      <th>Temperature</th>\n",
        "      <th>Zone_Temperature</th>\n",
        "      <th>WarmCool_Adjust</th>\n",
        "      <th>Actual_Cooling_Setpoint</th>\n",
        "      <th>Actual_Supply_Flow</th>\n",
        "      <th>Actual_Sup_Flow_SP</th>\n",
        "      <th>Actual_Heating_Setpoint</th>\n",
        "      <th>Reheat_Valve_Command</th>\n",
        "      <th>Common_Setpoint</th>\n",
        "      <th>Cooling_Max_Flow</th>\n",
        "      <th>Occupied_Clg_Min</th>\n",
        "      <th>Occupied_Htg_Flow</th>\n",
        "      <th>Cooling_Command</th>\n",
        "      <th>Heating_Command</th>\n",
        "      <th>Occupied_Command</th>\n",
        "    </tr>\n",
        "    <tr>\n",
        "      <th>TimeStamp</th>\n",
        "      <th></th>\n",
        "      <th></th>\n",
        "      <th></th>\n",
        "      <th></th>\n",
        "      <th></th>\n",
        "      <th></th>\n",
        "      <th></th>\n",
        "      <th></th>\n",
        "      <th></th>\n",
        "      <th></th>\n",
        "      <th></th>\n",
        "      <th></th>\n",
        "      <th></th>\n",
        "      <th></th>\n",
        "      <th></th>\n",
        "    </tr>\n",
        "  </thead>\n",
        "  <tbody>\n",
        "    <tr>\n",
        "      <th>2013-12-04 07:00:00</th>\n",
        "      <td> 56.054688</td>\n",
        "      <td> 71.227753</td>\n",
        "      <td>-0.643305</td>\n",
        "      <td> 80.461029</td>\n",
        "      <td> 25.966581</td>\n",
        "      <td> 0</td>\n",
        "      <td> 60.459908</td>\n",
        "      <td> 0</td>\n",
        "      <td> 73</td>\n",
        "      <td> 1085</td>\n",
        "      <td> 330</td>\n",
        "      <td> 330</td>\n",
        "      <td> 0</td>\n",
        "      <td> 0</td>\n",
        "      <td> 1</td>\n",
        "    </tr>\n",
        "    <tr>\n",
        "      <th>2013-12-04 07:15:00</th>\n",
        "      <td> 56.052083</td>\n",
        "      <td> 71.227753</td>\n",
        "      <td>-0.643305</td>\n",
        "      <td> 80.463280</td>\n",
        "      <td> 31.393233</td>\n",
        "      <td> 0</td>\n",
        "      <td> 60.464401</td>\n",
        "      <td> 0</td>\n",
        "      <td> 73</td>\n",
        "      <td> 1085</td>\n",
        "      <td> 330</td>\n",
        "      <td> 330</td>\n",
        "      <td> 0</td>\n",
        "      <td> 0</td>\n",
        "      <td> 1</td>\n",
        "    </tr>\n",
        "    <tr>\n",
        "      <th>2013-12-04 07:30:00</th>\n",
        "      <td> 56.197917</td>\n",
        "      <td> 71.227753</td>\n",
        "      <td>-0.643305</td>\n",
        "      <td> 80.464030</td>\n",
        "      <td> 33.778726</td>\n",
        "      <td> 0</td>\n",
        "      <td> 60.466089</td>\n",
        "      <td> 0</td>\n",
        "      <td> 73</td>\n",
        "      <td> 1085</td>\n",
        "      <td> 330</td>\n",
        "      <td> 330</td>\n",
        "      <td> 0</td>\n",
        "      <td> 0</td>\n",
        "      <td> 1</td>\n",
        "    </tr>\n",
        "    <tr>\n",
        "      <th>2013-12-04 07:45:00</th>\n",
        "      <td> 56.312500</td>\n",
        "      <td> 71.227753</td>\n",
        "      <td>-0.643305</td>\n",
        "      <td> 80.462156</td>\n",
        "      <td> 36.490113</td>\n",
        "      <td> 0</td>\n",
        "      <td> 60.464780</td>\n",
        "      <td> 0</td>\n",
        "      <td> 73</td>\n",
        "      <td> 1085</td>\n",
        "      <td> 330</td>\n",
        "      <td> 330</td>\n",
        "      <td> 0</td>\n",
        "      <td> 0</td>\n",
        "      <td> 1</td>\n",
        "    </tr>\n",
        "    <tr>\n",
        "      <th>2013-12-04 08:00:00</th>\n",
        "      <td> 56.156250</td>\n",
        "      <td> 71.227753</td>\n",
        "      <td>-0.643305</td>\n",
        "      <td> 80.461312</td>\n",
        "      <td> 34.042235</td>\n",
        "      <td> 0</td>\n",
        "      <td> 60.464123</td>\n",
        "      <td> 0</td>\n",
        "      <td> 73</td>\n",
        "      <td> 1085</td>\n",
        "      <td> 330</td>\n",
        "      <td> 330</td>\n",
        "      <td> 0</td>\n",
        "      <td> 0</td>\n",
        "      <td> 1</td>\n",
        "    </tr>\n",
        "  </tbody>\n",
        "</table>\n",
        "</div>"
       ],
       "metadata": {},
       "output_type": "pyout",
       "prompt_number": 106,
       "text": [
        "                     Temperature  Zone_Temperature  WarmCool_Adjust  \\\n",
        "TimeStamp                                                             \n",
        "2013-12-04 07:00:00    56.054688         71.227753        -0.643305   \n",
        "2013-12-04 07:15:00    56.052083         71.227753        -0.643305   \n",
        "2013-12-04 07:30:00    56.197917         71.227753        -0.643305   \n",
        "2013-12-04 07:45:00    56.312500         71.227753        -0.643305   \n",
        "2013-12-04 08:00:00    56.156250         71.227753        -0.643305   \n",
        "\n",
        "                     Actual_Cooling_Setpoint  Actual_Supply_Flow  \\\n",
        "TimeStamp                                                          \n",
        "2013-12-04 07:00:00                80.461029           25.966581   \n",
        "2013-12-04 07:15:00                80.463280           31.393233   \n",
        "2013-12-04 07:30:00                80.464030           33.778726   \n",
        "2013-12-04 07:45:00                80.462156           36.490113   \n",
        "2013-12-04 08:00:00                80.461312           34.042235   \n",
        "\n",
        "                     Actual_Sup_Flow_SP  Actual_Heating_Setpoint  \\\n",
        "TimeStamp                                                          \n",
        "2013-12-04 07:00:00                   0                60.459908   \n",
        "2013-12-04 07:15:00                   0                60.464401   \n",
        "2013-12-04 07:30:00                   0                60.466089   \n",
        "2013-12-04 07:45:00                   0                60.464780   \n",
        "2013-12-04 08:00:00                   0                60.464123   \n",
        "\n",
        "                     Reheat_Valve_Command  Common_Setpoint  Cooling_Max_Flow  \\\n",
        "TimeStamp                                                                      \n",
        "2013-12-04 07:00:00                     0               73              1085   \n",
        "2013-12-04 07:15:00                     0               73              1085   \n",
        "2013-12-04 07:30:00                     0               73              1085   \n",
        "2013-12-04 07:45:00                     0               73              1085   \n",
        "2013-12-04 08:00:00                     0               73              1085   \n",
        "\n",
        "                     Occupied_Clg_Min  Occupied_Htg_Flow  Cooling_Command  \\\n",
        "TimeStamp                                                                   \n",
        "2013-12-04 07:00:00               330                330                0   \n",
        "2013-12-04 07:15:00               330                330                0   \n",
        "2013-12-04 07:30:00               330                330                0   \n",
        "2013-12-04 07:45:00               330                330                0   \n",
        "2013-12-04 08:00:00               330                330                0   \n",
        "\n",
        "                     Heating_Command  Occupied_Command  \n",
        "TimeStamp                                               \n",
        "2013-12-04 07:00:00                0                 1  \n",
        "2013-12-04 07:15:00                0                 1  \n",
        "2013-12-04 07:30:00                0                 1  \n",
        "2013-12-04 07:45:00                0                 1  \n",
        "2013-12-04 08:00:00                0                 1  "
       ]
      }
     ],
     "prompt_number": 106
    },
    {
     "cell_type": "code",
     "collapsed": false,
     "input": [
      "Fields=[u'Temperature', u'Zone_Temperature', u'WarmCool_Adjust', u'Actual_Cooling_Setpoint', u'Actual_Supply_Flow', u'Actual_Sup_Flow_SP', u'Actual_Heating_Setpoint', u'Reheat_Valve_Command', u'Common_Setpoint', u'Cooling_Max_Flow', u'Occupied_Clg_Min', u'Occupied_Htg_Flow', u'Cooling_Command', u'Heating_Command', u'Occupied_Command']\n",
      "plot(DF.index,DF['Zone_Temperature'])"
     ],
     "language": "python",
     "metadata": {},
     "outputs": [
      {
       "metadata": {},
       "output_type": "pyout",
       "prompt_number": 107,
       "text": [
        "[<matplotlib.lines.Line2D at 0x12522bad0>]"
       ]
      }
     ],
     "prompt_number": 107
    },
    {
     "cell_type": "code",
     "collapsed": false,
     "input": [
      "DF.columns"
     ],
     "language": "python",
     "metadata": {},
     "outputs": [
      {
       "metadata": {},
       "output_type": "pyout",
       "prompt_number": 13,
       "text": [
        "Index([u'Temperature', u'Zone_Temperature', u'WarmCool_Adjust', u'Actual_Cooling_Setpoint', u'Actual_Supply_Flow', u'Actual_Sup_Flow_SP', u'Actual_Heating_Setpoint', u'Reheat_Valve_Command', u'Common_Setpoint', u'Cooling_Max_Flow', u'Occupied_Clg_Min', u'Occupied_Htg_Flow', u'Cooling_Command', u'Heating_Command', u'Occupied_Command'], dtype='object')"
       ]
      }
     ],
     "prompt_number": 13
    },
    {
     "cell_type": "code",
     "collapsed": false,
     "input": [
      "def plot_a_day(A,ax1,graph_title='',with_legend=False):\n",
      "    \n",
      "    p1,=ax1.plot(A.index,A['Zone_Temperature'],'b',label='Zone_Temperature',linewidth=2.0);\n",
      "    p3,=ax1.plot(A.index,A['Actual_Cooling_Setpoint'],'y',label='Actual_Cooling_Setpoint',linewidth=2.0);\n",
      "    p4,=ax1.plot(A.index,A['Actual_Heating_Setpoint'],'c',label='Actual_Heating_Setpoint',linewidth=2.0);\n",
      "    p5,=ax1.plot(A.index,A['Temperature'],'b--',label='Temperature',linewidth=2.0);\n",
      "    B=A['Heating_Command'][A['Heating_Command']>0]\n",
      "    p6,=ax1.plot(B.index,B,'k',label='Heating_Command',linewidth=2.0);\n",
      "    p7,=ax1.plot(A.index,A['Occupied_Command']*5+70,'g--',label='Occupied_Command',linewidth=2.0)\n",
      "\n",
      "    plt.ylabel('Degrees Fahrenheit',fontsize=20);\n",
      "    ax2 = ax1.twinx()\n",
      "    p2,=ax2.plot(A.index,A['Actual_Supply_Flow'],'r',label='Actual_Supply_Flow',linewidth=2.0);\n",
      "    plt.ylabel('Cubic Feet per Minute',fontsize=20);\n",
      "    grid()\n",
      "    ax1.set_title(graph_title)\n",
      "    if with_legend:\n",
      "        #ax1.cla(); ax2.cla()\n",
      "        ax1.legend(loc=2)\n",
      "        ax2.legend(loc=3)\n",
      "        #[p1, p2,p3,p4,p5,p6], [\"Zone Temperature\", \"Supply Flow\", \"Cooling Set Point\",\"Heating Set Point\",\"External Temperature\"],\"upper right\");\n"
     ],
     "language": "python",
     "metadata": {},
     "outputs": [],
     "prompt_number": 108
    },
    {
     "cell_type": "code",
     "collapsed": false,
     "input": [
      "from datetime import timedelta\n",
      "from time import strftime\n",
      "def daterange(start_date, end_date):\n",
      "    for n in range(int ((end_date - start_date).days)):\n",
      "        yield start_date + timedelta(n)\n",
      "\n",
      "room='1145'\n",
      "DateRange=daterange(datetime.date(2013, 12, 9), datetime.date(2013, 12, 16))\n",
      "\n",
      "DF=A[room]\n",
      "DF=DF.iloc[32:,:] # Remove undefined rows\n",
      "DF['date']=DF.index.date\n",
      "\n",
      "subplots_W=3\n",
      "subplots_H=3\n",
      "fig, ax = plt.subplots(subplots_H,subplots_W)\n",
      "i=0        \n",
      "for single_date in DateRange:\n",
      "    date_string=strftime(\"%a %Y-%m-%d\", single_date.timetuple())   \n",
      "    DayData=DF[DF['date']==single_date]\n",
      "    plot_a_day(DayData,ax[i/subplots_W,i%subplots_W],graph_title=date_string)\n",
      "    i+=1\n",
      "plot_a_day(DayData,ax[i/subplots_W,i%subplots_W],graph_title=date_string, with_legend=True)"
     ],
     "language": "python",
     "metadata": {},
     "outputs": [],
     "prompt_number": 164
    },
    {
     "cell_type": "code",
     "collapsed": false,
     "input": [],
     "language": "python",
     "metadata": {},
     "outputs": [],
     "prompt_number": 102
    },
    {
     "cell_type": "code",
     "collapsed": false,
     "input": [
      "plot(DF.index,DF['Occupied_Command'])"
     ],
     "language": "python",
     "metadata": {},
     "outputs": [
      {
       "metadata": {},
       "output_type": "pyout",
       "prompt_number": 120,
       "text": [
        "[<matplotlib.lines.Line2D at 0x12558cdd0>]"
       ]
      }
     ],
     "prompt_number": 120
    },
    {
     "cell_type": "code",
     "collapsed": false,
     "input": [
      "len(set(DF.index.time))"
     ],
     "language": "python",
     "metadata": {},
     "outputs": [
      {
       "metadata": {},
       "output_type": "pyout",
       "prompt_number": 124,
       "text": [
        "96"
       ]
      }
     ],
     "prompt_number": 124
    },
    {
     "cell_type": "code",
     "collapsed": false,
     "input": [
      "occupancy=DF['Occupied_Command']"
     ],
     "language": "python",
     "metadata": {},
     "outputs": [],
     "prompt_number": 125
    },
    {
     "cell_type": "code",
     "collapsed": false,
     "input": [
      "room"
     ],
     "language": "python",
     "metadata": {},
     "outputs": [
      {
       "metadata": {},
       "output_type": "pyout",
       "prompt_number": 143,
       "text": [
        "'4128'"
       ]
      }
     ],
     "prompt_number": 143
    },
    {
     "cell_type": "code",
     "collapsed": false,
     "input": [
      "#Occupancy is mostly a function of the time of day.\n",
      "mean=occupancy.groupby(occupancy.index.time).mean()\n",
      "std=occupancy.groupby(occupancy.index.time).std()\n",
      "plot(mean.index,mean)\n",
      "plot(std.index,std)"
     ],
     "language": "python",
     "metadata": {},
     "outputs": [],
     "prompt_number": 138
    },
    {
     "cell_type": "markdown",
     "metadata": {},
     "source": [
      "The Following cell shows that the occupied command and the high-low setpoints are highly dependent, as they should be."
     ]
    },
    {
     "cell_type": "code",
     "collapsed": false,
     "input": [
      "pd.scatter_matrix(DF[['Occupied_Command','Actual_Cooling_Setpoint','Actual_Heating_Setpoint']], alpha=0.2, figsize=(6, 6), diagonal='kde');"
     ],
     "language": "python",
     "metadata": {},
     "outputs": [
      {
       "metadata": {},
       "output_type": "pyout",
       "prompt_number": 142,
       "text": [
        "array([[<matplotlib.axes.AxesSubplot object at 0x131df7190>,\n",
        "        <matplotlib.axes.AxesSubplot object at 0x144b45290>,\n",
        "        <matplotlib.axes.AxesSubplot object at 0x1364e7bd0>],\n",
        "       [<matplotlib.axes.AxesSubplot object at 0x131f68650>,\n",
        "        <matplotlib.axes.AxesSubplot object at 0x1334c76d0>,\n",
        "        <matplotlib.axes.AxesSubplot object at 0x1335263d0>],\n",
        "       [<matplotlib.axes.AxesSubplot object at 0x1335a0290>,\n",
        "        <matplotlib.axes.AxesSubplot object at 0x1335d5310>,\n",
        "        <matplotlib.axes.AxesSubplot object at 0x133678dd0>]], dtype=object)"
       ]
      }
     ],
     "prompt_number": 142
    },
    {
     "cell_type": "code",
     "collapsed": false,
     "input": [],
     "language": "python",
     "metadata": {},
     "outputs": []
    },
    {
     "cell_type": "markdown",
     "metadata": {},
     "source": [
      "mean=occupancy.groupby(occupancy.index.time).mean()\n",
      "std=occupancy.groupby(occupancy.index.time).std()\n",
      "plot(mean.index,mean)\n",
      "plot(std.index,std)"
     ]
    },
    {
     "cell_type": "code",
     "collapsed": false,
     "input": [
      "room_temp_stat=[]\n",
      "for pair in A.items():\n",
      "    room, DF=pair\n",
      "    zone_temp=DF['Zone_Temperature']\n",
      "    mean_temp=zone_temp.mean()\n",
      "    std_temp=zone_temp.std()\n",
      "    room_temp_stat.append({'room':room,\\\n",
      "                           'mean':mean_temp,\\\n",
      "                           'std':std_temp})\n",
      "    #print 'room=%s, mean_zone_temp=%5.1f std=%5.1f'%(room,mean_temp,std_temp)"
     ],
     "language": "python",
     "metadata": {},
     "outputs": [],
     "prompt_number": 158
    },
    {
     "cell_type": "code",
     "collapsed": false,
     "input": [
      "sorted(room_temp_stat,key=lambda e:e['std'])"
     ],
     "language": "python",
     "metadata": {},
     "outputs": [
      {
       "metadata": {},
       "output_type": "pyout",
       "prompt_number": 161,
       "text": [
        "[{'mean': 74.917234619157441, 'room': '3146', 'std': 0.52691582560888839},\n",
        " {'mean': 71.246001933704065, 'room': '1124', 'std': 0.59723562023203058},\n",
        " {'mean': 61.492706665660513, 'room': '1213A', 'std': 0.63169834183842},\n",
        " {'mean': 72.36045755035579, 'room': '2142', 'std': 0.68143719625580124},\n",
        " {'mean': 71.293573054358149, 'room': '4230', 'std': 0.68219266458120043},\n",
        " {'mean': 73.18567898564973, 'room': '1107', 'std': 0.71760350178840304},\n",
        " {'mean': 71.454320152714089, 'room': '4250', 'std': 0.75925512357968739},\n",
        " {'mean': 70.857541688614759, 'room': '2232', 'std': 0.83057422725335994},\n",
        " {'mean': 72.325077624744296, 'room': '1109', 'std': 0.90742286062602417},\n",
        " {'mean': 72.558510133367236, 'room': 'B210', 'std': 0.90967020747064498},\n",
        " {'mean': 71.448156986727284, 'room': '4256', 'std': 0.9243423801425964},\n",
        " {'mean': 72.082489559041008, 'room': '1100D', 'std': 0.93652290410057104},\n",
        " {'mean': 72.454720026900915, 'room': '2215', 'std': 0.96800009409766652},\n",
        " {'mean': 71.520536983291407, 'room': '2229A', 'std': 0.98330373152470274},\n",
        " {'mean': 71.626600309640679, 'room': '1213', 'std': 1.0681092298340376},\n",
        " {'mean': 71.961351487162034, 'room': '1212', 'std': 1.0863977080544085},\n",
        " {'mean': 71.368826289663801, 'room': '3256', 'std': 1.0926109960435306},\n",
        " {'mean': 70.530688071055238, 'room': '1126', 'std': 1.0930659445594972},\n",
        " {'mean': 72.25920594975652, 'room': '1115', 'std': 1.0981482706389263},\n",
        " {'mean': 70.663757295141593, 'room': '4240', 'std': 1.1156651677642166},\n",
        " {'mean': 71.712579743302186, 'room': '2127', 'std': 1.1387952516566402},\n",
        " {'mean': 74.015178525374523, 'room': 'B102C', 'std': 1.1488698737305034},\n",
        " {'mean': 73.200107800091615, 'room': '2130', 'std': 1.1537567402786315},\n",
        " {'mean': 72.804536217860317, 'room': '1139', 'std': 1.1749081068476441},\n",
        " {'mean': 71.343665568207015, 'room': '2128', 'std': 1.1873584492785276},\n",
        " {'mean': 72.59208810913276, 'room': '1113', 'std': 1.221062822097617},\n",
        " {'mean': 71.466004136403214, 'room': '4242', 'std': 1.2453429731898684},\n",
        " {'mean': 71.966580996011757, 'room': '2136', 'std': 1.2502096808772012},\n",
        " {'mean': 73.209220747706794, 'room': '1117', 'std': 1.2677766920084239},\n",
        " {'mean': 73.048237453085349, 'room': '1123', 'std': 1.2686006270516168},\n",
        " {'mean': 73.228097084959117, 'room': 'B260A', 'std': 1.2711707444563611},\n",
        " {'mean': 72.293704361084991, 'room': '3127', 'std': 1.2770496719912301},\n",
        " {'mean': 70.546161016686895, 'room': '1224', 'std': 1.2809483260005878},\n",
        " {'mean': 71.654216392119764, 'room': '1208B', 'std': 1.2833789055650842},\n",
        " {'mean': 73.256825984704435, 'room': '1217', 'std': 1.291553421079612},\n",
        " {'mean': 71.889324614684455, 'room': '2154', 'std': 1.3292328914964586},\n",
        " {'mean': 72.72845774228945, 'room': '2144', 'std': 1.334128759703002},\n",
        " {'mean': 71.080946573740789, 'room': '2118', 'std': 1.3438385444184295},\n",
        " {'mean': 72.49701469103853, 'room': '2221', 'std': 1.359860833542792},\n",
        " {'mean': 70.571117216992846, 'room': '1208', 'std': 1.368629138808227},\n",
        " {'mean': 73.716264438900254, 'room': '1223', 'std': 1.3740468895101097},\n",
        " {'mean': 71.439405797624261, 'room': '3213', 'std': 1.3797861529675426},\n",
        " {'mean': 72.241481808887826, 'room': '1100A', 'std': 1.3917909983166432},\n",
        " {'mean': 72.207794724825277, 'room': '2132', 'std': 1.3978278902243033},\n",
        " {'mean': 71.443687855866557, 'room': '2200A', 'std': 1.4047479393941176},\n",
        " {'mean': 72.418757136956174, 'room': '1218', 'std': 1.4085494703076948},\n",
        " {'mean': 72.265490420663156, 'room': '3260', 'std': 1.4155514932829889},\n",
        " {'mean': 70.961104994184069, 'room': '1155', 'std': 1.4211410963162663},\n",
        " {'mean': 71.467720042394802, 'room': '2107', 'std': 1.4250616606287478},\n",
        " {'mean': 72.900593093386377, 'room': '1231', 'std': 1.4412886334362474},\n",
        " {'mean': 74.111112150091714, 'room': '2140', 'std': 1.4484771036755082},\n",
        " {'mean': 74.529304735640579, 'room': '3142', 'std': 1.4541146806558072},\n",
        " {'mean': 70.974880002839328, 'room': '2108', 'std': 1.463294772559337},\n",
        " {'mean': 72.071654335751049, 'room': '2230', 'std': 1.4769703371035245},\n",
        " {'mean': 73.058883786251997, 'room': '4142', 'std': 1.4842964613755423},\n",
        " {'mean': 73.088008419907354, 'room': '1221', 'std': 1.49042443303651},\n",
        " {'mean': 74.351484936083892, 'room': '1133', 'std': 1.497281847993909},\n",
        " {'mean': 72.354552956602561, 'room': '2119', 'std': 1.4977237138703439},\n",
        " {'mean': 72.766768377409434, 'room': '3107', 'std': 1.4977802288685329},\n",
        " {'mean': 71.202744600283097, 'room': '4213', 'std': 1.5040770670822083},\n",
        " {'mean': 69.901162083559413, 'room': '3236', 'std': 1.5082420173062849},\n",
        " {'mean': 71.606376015312946, 'room': '3215', 'std': 1.5315931614038303},\n",
        " {'mean': 73.585790927207498, 'room': 'B250A', 'std': 1.5398637712129837},\n",
        " {'mean': 70.423834051815348, 'room': '1230', 'std': 1.559783560136226},\n",
        " {'mean': 73.419986467935203, 'room': '3140', 'std': 1.570725586308606},\n",
        " {'mean': 72.716910910147391, 'room': '3150', 'std': 1.5846425902135941},\n",
        " {'mean': 70.310359154428866, 'room': '4236', 'std': 1.5912215160554026},\n",
        " {'mean': 72.429420418905963, 'room': '2238', 'std': 1.6118579804213276},\n",
        " {'mean': 74.899852433674653, 'room': '4254', 'std': 1.6163214399984527},\n",
        " {'mean': 70.94094345727963, 'room': '4231', 'std': 1.6378890761585536},\n",
        " {'mean': 71.75942407485536, 'room': '1116', 'std': 1.640669280677171},\n",
        " {'mean': 72.599979652807818, 'room': '1151', 'std': 1.646109536327925},\n",
        " {'mean': 73.846240793766896, 'room': 'B230A', 'std': 1.6511374095657494},\n",
        " {'mean': 71.402238595223636, 'room': '1110', 'std': 1.6569818835403396},\n",
        " {'mean': 73.021466524471663, 'room': '3252', 'std': 1.6712224199536971},\n",
        " {'mean': 71.371217580418289, 'room': '2116', 'std': 1.6745219839562837},\n",
        " {'mean': 74.793051667258354, 'room': 'B222', 'std': 1.6778682566106622},\n",
        " {'mean': 69.288116380643174, 'room': '3246', 'std': 1.6925252696367743},\n",
        " {'mean': 70.543011196024693, 'room': '4215', 'std': 1.7124334024797774},\n",
        " {'mean': 72.116340501340787, 'room': '3230', 'std': 1.7178592860669404},\n",
        " {'mean': 72.025199542147988, 'room': '3242', 'std': 1.7182831597163719},\n",
        " {'mean': 72.235473810884585, 'room': 'B230', 'std': 1.7228591848446917},\n",
        " {'mean': 72.414746728337335, 'room': '4148', 'std': 1.7264438787215803},\n",
        " {'mean': 71.301807647915183, 'room': '2112', 'std': 1.7325078262927871},\n",
        " {'mean': 74.029139817438903, 'room': '3254', 'std': 1.7343449992711388},\n",
        " {'mean': 74.703898542210879, 'room': '4111', 'std': 1.7373482255266528},\n",
        " {'mean': 73.283781675582517, 'room': 'B240A', 'std': 1.7410014970695806},\n",
        " {'mean': 71.209253136704319, 'room': '4152', 'std': 1.7489652653081076},\n",
        " {'mean': 74.635013235306047, 'room': '1207', 'std': 1.7507695899189388},\n",
        " {'mean': 75.26968742642363, 'room': '2207', 'std': 1.7571532795169169},\n",
        " {'mean': 71.892526362072189, 'room': '1108', 'std': 1.7765248402518246},\n",
        " {'mean': 73.258222409934149, 'room': '3128', 'std': 1.7766442807236587},\n",
        " {'mean': 73.801980753751295, 'room': '1125', 'std': 1.7772801010876604},\n",
        " {'mean': 71.469085145154565, 'room': 'B220', 'std': 1.7890321019218078},\n",
        " {'mean': 71.72221782103783, 'room': '2250', 'std': 1.7994502518367674},\n",
        " {'mean': 71.095107620265452, 'room': '4128', 'std': 1.802323522135723},\n",
        " {'mean': 73.691738740445942, 'room': '3144', 'std': 1.8030819213849265},\n",
        " {'mean': 71.809397027092416, 'room': '2262', 'std': 1.8034974117533786},\n",
        " {'mean': 71.175332584164266, 'room': 'B270', 'std': 1.8060344861021558},\n",
        " {'mean': 72.357483882089113, 'room': 'B225', 'std': 1.8147181681165074},\n",
        " {'mean': 71.825938399682286, 'room': '1132', 'std': 1.8200135946617328},\n",
        " {'mean': 71.345974992880187, 'room': '4217', 'std': 1.8219246923592918},\n",
        " {'mean': 71.707099848932529, 'room': 'B260', 'std': 1.8291568909576201},\n",
        " {'mean': 71.256876724689633, 'room': '3232', 'std': 1.8414128756690005},\n",
        " {'mean': 70.084219881479285, 'room': '4232', 'std': 1.8417883251290479},\n",
        " {'mean': 71.677704339845207, 'room': '3205', 'std': 1.8429894896469232},\n",
        " {'mean': 74.208569788777041, 'room': '3154', 'std': 1.8712792361435642},\n",
        " {'mean': 71.683167020813499, 'room': '2121', 'std': 1.8755882108531639},\n",
        " {'mean': 72.333602472164287, 'room': '2234', 'std': 1.882554840924461},\n",
        " {'mean': 71.228309550043093, 'room': '3119', 'std': 1.8863725421991047},\n",
        " {'mean': 73.378386091385167, 'room': '4252', 'std': 1.886844063815033},\n",
        " {'mean': 67.15392843750621, 'room': '1106', 'std': 1.8890001322697387},\n",
        " {'mean': 69.655091300714673, 'room': '2102', 'std': 1.8932561641501273},\n",
        " {'mean': 72.545503800023681, 'room': '2148', 'std': 1.9047049599966128},\n",
        " {'mean': 75.830581146199194, 'room': '2203', 'std': 1.905641555221057},\n",
        " {'mean': 71.922823588975078, 'room': '4146', 'std': 1.9096878065506238},\n",
        " {'mean': 69.865475627595714, 'room': '1200B', 'std': 1.9248994255491254},\n",
        " {'mean': 70.506056864371814, 'room': '2244', 'std': 1.93861225077927},\n",
        " {'mean': 69.749828845854978, 'room': '4122', 'std': 1.9582467468611728},\n",
        " {'mean': 69.826246960240226, 'room': '2256', 'std': 1.9645649716237565},\n",
        " {'mean': 72.638465546103888, 'room': '3109', 'std': 1.9684798695543611},\n",
        " {'mean': 69.719496743110483, 'room': '1122', 'std': 1.9705285160544521},\n",
        " {'mean': 71.559380610911873, 'room': '3240', 'std': 1.9723634810352979},\n",
        " {'mean': 73.644003839772182, 'room': '4127', 'std': 1.9772779415024229},\n",
        " {'mean': 71.259233629269474, 'room': '4119', 'std': 1.980865349379453},\n",
        " {'mean': 71.808151667841983, 'room': '1144', 'std': 1.9891451537932041},\n",
        " {'mean': 74.54132460248384, 'room': '3220', 'std': 1.9941675063809983},\n",
        " {'mean': 72.558812669713078, 'room': '2231', 'std': 2.0177015213245562},\n",
        " {'mean': 69.332725488887931, 'room': '3202', 'std': 2.0187873702243344},\n",
        " {'mean': 71.253689013065099, 'room': '4107', 'std': 2.0245942189365538},\n",
        " {'mean': 71.231993787787815, 'room': '4205', 'std': 2.0323221452629321},\n",
        " {'mean': 73.948009408240182, 'room': '3221', 'std': 2.0541776602053461},\n",
        " {'mean': 72.941717495679413, 'room': '3262', 'std': 2.064273638407796},\n",
        " {'mean': 69.668880713535515, 'room': '2105', 'std': 2.0688825733926501},\n",
        " {'mean': 73.082727186016299, 'room': '2217', 'std': 2.0942025898508221},\n",
        " {'mean': 73.494594693035069, 'room': '1203', 'std': 2.0967565624406466},\n",
        " {'mean': 73.227433130072384, 'room': '1156', 'std': 2.1019192637550965},\n",
        " {'mean': 70.91657986265416, 'room': '4121', 'std': 2.1024540670063279},\n",
        " {'mean': 71.090885989838029, 'room': '1130', 'std': 2.1048228127516979},\n",
        " {'mean': 74.125306878173106, 'room': '3148', 'std': 2.1153122169896617},\n",
        " {'mean': 72.430421586407746, 'room': '3258', 'std': 2.1214561018383682},\n",
        " {'mean': 75.855791112508868, 'room': 'B215', 'std': 2.126970674411071},\n",
        " {'mean': 70.924013297451225, 'room': '3122', 'std': 2.1339651011461234},\n",
        " {'mean': 73.297656540700387, 'room': '1150', 'std': 2.1423323300865125},\n",
        " {'mean': 71.3911737000589, 'room': '1102', 'std': 2.1427153519541573},\n",
        " {'mean': 71.287808204814397, 'room': 'B109', 'std': 2.1541355254406374},\n",
        " {'mean': 70.316292562638708, 'room': '3106', 'std': 2.1647198442427587},\n",
        " {'mean': 71.198879941221392, 'room': '3217', 'std': 2.1757650868495473},\n",
        " {'mean': 71.517760358513868, 'room': '3121', 'std': 2.1773361675839595},\n",
        " {'mean': 73.22450568361765, 'room': '1154', 'std': 2.1799323514145796},\n",
        " {'mean': 72.729463113014063, 'room': 'B240', 'std': 2.184993709750727},\n",
        " {'mean': 72.298352191151906, 'room': 'B200B', 'std': 2.19163080244165},\n",
        " {'mean': 72.118473686429965, 'room': '2236', 'std': 2.1943825903225078},\n",
        " {'mean': 71.238909984814157, 'room': '4200A', 'std': 2.2240526532962965},\n",
        " {'mean': 70.807835705301486, 'room': '4102', 'std': 2.2478738565899055},\n",
        " {'mean': 70.16646239077734, 'room': '4202', 'std': 2.2502715094183459},\n",
        " {'mean': 77.682589867524413, 'room': '3136', 'std': 2.2527177452354659},\n",
        " {'mean': 72.171409889841044, 'room': '4132', 'std': 2.2548053574070104},\n",
        " {'mean': 71.750249067444386, 'room': '3200B', 'std': 2.2579731514234394},\n",
        " {'mean': 68.03252890357976, 'room': '1104', 'std': 2.2641718396540234},\n",
        " {'mean': 72.739336859159437, 'room': '1229', 'std': 2.2709469006593479},\n",
        " {'mean': 70.466182223540585, 'room': '2240', 'std': 2.2716423940232215},\n",
        " {'mean': 71.76706625177583, 'room': '3132', 'std': 2.2779507673708665},\n",
        " {'mean': 72.256510082264583, 'room': '2270', 'std': 2.2788761542169813},\n",
        " {'mean': 70.641761260881822, 'room': '3200A', 'std': 2.2905572021365752},\n",
        " {'mean': 71.286467088826171, 'room': '2134', 'std': 2.2930698133171852},\n",
        " {'mean': 73.4790949916366, 'room': '2272', 'std': 2.3070644074619433},\n",
        " {'mean': 69.814802577533328, 'room': '4118', 'std': 2.3159951730018391},\n",
        " {'mean': 69.685460042721729, 'room': '4246', 'std': 2.3183371788837275},\n",
        " {'mean': 71.475030757349828, 'room': '1200A', 'std': 2.3193439964556024},\n",
        " {'mean': 69.395249170184556, 'room': '3110', 'std': 2.3315176028316063},\n",
        " {'mean': 76.006821709069428, 'room': '3207', 'std': 2.3338605677576765},\n",
        " {'mean': 74.961145007536786, 'room': '3152', 'std': 2.3401974905000094},\n",
        " {'mean': 73.204282532648705, 'room': '2109', 'std': 2.3432036182350409},\n",
        " {'mean': 71.876850928235967, 'room': 'B250', 'std': 2.347372948190233},\n",
        " {'mean': 73.593078233326935, 'room': '3134', 'std': 2.3745245686798593},\n",
        " {'mean': 73.40635956336412, 'room': '4219', 'std': 2.3996308234333736},\n",
        " {'mean': 69.683181316846401, 'room': '3105', 'std': 2.4172824391105681},\n",
        " {'mean': 71.813604639428675, 'room': '4220', 'std': 2.4547638936580154},\n",
        " {'mean': 70.042083089650205, 'room': '3118', 'std': 2.4733930550437284},\n",
        " {'mean': 69.226137445088241, 'room': '2126', 'std': 2.4818023675574858},\n",
        " {'mean': 69.365338049849328, 'room': '4105', 'std': 2.4880099818703898},\n",
        " {'mean': 69.691094185078313, 'room': '3102', 'std': 2.4881116464091169},\n",
        " {'mean': 69.169610852177755, 'room': '2218', 'std': 2.5039064210188826},\n",
        " {'mean': 75.979628438021408, 'room': '3203', 'std': 2.5054086909683528},\n",
        " {'mean': 70.527702227033799, 'room': '2122', 'std': 2.5062702305746187},\n",
        " {'mean': 71.026959964163055, 'room': '2208', 'std': 2.5162303741886842},\n",
        " {'mean': 71.455782692667526, 'room': '4136', 'std': 2.5215791518166397},\n",
        " {'mean': 71.432418326992277, 'room': '4140', 'std': 2.5349175580312986},\n",
        " {'mean': 72.12029879528265, 'room': '2111', 'std': 2.5444222000457302},\n",
        " {'mean': 72.5993818252457, 'room': '4207', 'std': 2.5540082480571082},\n",
        " {'mean': 73.310027886130072, 'room': '4214', 'std': 2.5801962701069638},\n",
        " {'mean': 70.317957862521638, 'room': '2266', 'std': 2.6142373779443586},\n",
        " {'mean': 71.406846271004781, 'room': '3208', 'std': 2.6221633065986016},\n",
        " {'mean': 72.240417003605373, 'room': '4144', 'std': 2.6274837765778343},\n",
        " {'mean': 70.20327768171849, 'room': '4106', 'std': 2.6275750780533924},\n",
        " {'mean': 70.338324113126163, 'room': '3126', 'std': 2.6390040278821174},\n",
        " {'mean': 76.440859215402824, 'room': '4203', 'std': 2.6812630894826199},\n",
        " {'mean': 70.003924881952884, 'room': '3226', 'std': 2.7187240919843987},\n",
        " {'mean': 69.895567862434518, 'room': '3214', 'std': 2.7283829293084261},\n",
        " {'mean': 77.690602621389758, 'room': 'B103', 'std': 2.7363375701231627},\n",
        " {'mean': 70.529305158412114, 'room': '2138', 'std': 2.7577670260079947},\n",
        " {'mean': 70.104343782045703, 'room': '2226', 'std': 2.7595254493812584},\n",
        " {'mean': 73.165153919615364, 'room': '3250', 'std': 2.8102147131877873},\n",
        " {'mean': 73.177666698586563, 'room': '4154', 'std': 2.8163533377268388},\n",
        " {'mean': 70.874277191904568, 'room': '4258', 'std': 2.833976298892507},\n",
        " {'mean': 70.321989013814999, 'room': '1236', 'std': 2.8809196573643789},\n",
        " {'mean': 70.971755950544235, 'room': '4150', 'std': 2.9358214601437429},\n",
        " {'mean': 71.543246094602736, 'room': '2209', 'std': 2.9530368350013965},\n",
        " {'mean': 77.413466994721091, 'room': '2150', 'std': 3.0268477120086645},\n",
        " {'mean': 71.04438189204815, 'room': '3130', 'std': 3.0422513018068997},\n",
        " {'mean': 70.500360286952358, 'room': '4130', 'std': 3.0831976869766766},\n",
        " {'mean': 70.60522854301874, 'room': '2146', 'std': 3.1010033178670824},\n",
        " {'mean': 72.615301539171995, 'room': '3138', 'std': 3.1523943806109651},\n",
        " {'mean': 71.096075392220797, 'room': '4208', 'std': 3.1671636188688392},\n",
        " {'mean': 69.644862778429484, 'room': '4126', 'std': 3.1940548253921621},\n",
        " {'mean': 67.007099999368037, 'room': '1200C', 'std': 3.2335766695429804},\n",
        " {'mean': 73.374646430605296, 'room': '2219', 'std': 3.2349893080790513},\n",
        " {'mean': 71.711644918237852, 'room': '4134', 'std': 3.3364661378813079},\n",
        " {'mean': 72.65820409694507, 'room': '4226', 'std': 3.3922072289768272},\n",
        " {'mean': 70.9913276811222, 'room': '4138', 'std': 3.5620786205591868},\n",
        " {'mean': 74.947315209545962, 'room': 'B103A', 'std': 3.5656062473331027},\n",
        " {'mean': 70.338838725655108, 'room': '3114', 'std': 3.6164170148987842},\n",
        " {'mean': 72.142754446792352, 'room': '3111', 'std': 3.6289079007119516},\n",
        " {'mean': 75.539550954388446, 'room': 'B224', 'std': 3.7181588885538353},\n",
        " {'mean': 71.027337274340624, 'room': '1134', 'std': 3.8948845752574734},\n",
        " {'mean': 69.827413146512868, 'room': '4109', 'std': 4.0978526822210055},\n",
        " {'mean': 68.217122822913325, 'room': '4110', 'std': 4.5879669018015496},\n",
        " {'mean': 75.102155773771955, 'room': 'B275', 'std': 4.7435231505708142},\n",
        " {'mean': 69.876597334281996, 'room': '4114', 'std': 5.0423045164636315},\n",
        " {'mean': 80.173645928954798, 'room': '2227', 'std': 5.1042689088565725},\n",
        " {'mean': 68.093041197622512, 'room': '2214', 'std': 5.2694337266224727},\n",
        " {'mean': 65.62342438707401, 'room': '4223', 'std': 5.4173753418064043},\n",
        " {'mean': 75.338790308419391, 'room': 'B200C', 'std': 7.5330503280583239},\n",
        " {'mean': 59.736314425529415, 'room': '1145', 'std': 11.399758097333891}]"
       ]
      }
     ],
     "prompt_number": 161
    },
    {
     "cell_type": "code",
     "collapsed": false,
     "input": [
      "std_temp"
     ],
     "language": "python",
     "metadata": {},
     "outputs": [
      {
       "metadata": {},
       "output_type": "pyout",
       "prompt_number": 155,
       "text": [
        "1.9891451537932041"
       ]
      }
     ],
     "prompt_number": 155
    },
    {
     "cell_type": "code",
     "collapsed": false,
     "input": [],
     "language": "python",
     "metadata": {},
     "outputs": []
    }
   ],
   "metadata": {}
  }
 ]
}